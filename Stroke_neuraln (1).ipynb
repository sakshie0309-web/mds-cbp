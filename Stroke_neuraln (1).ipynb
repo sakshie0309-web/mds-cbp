{
  "nbformat": 4,
  "nbformat_minor": 0,
  "metadata": {
    "colab": {
      "provenance": []
    },
    "kernelspec": {
      "name": "python3",
      "display_name": "Python 3"
    },
    "language_info": {
      "name": "python"
    }
  },
  "cells": [
    {
      "cell_type": "code",
      "source": [
        "# IMPORTING LIBRARIES\n",
        "\n",
        "import numpy as np\n",
        "import pandas as pd\n",
        "import matplotlib.pyplot as plt\n",
        "import seaborn as sns\n",
        "from sklearn.model_selection import train_test_split\n",
        "from sklearn.neighbors import KNeighborsClassifier\n",
        "from sklearn.svm import SVC\n",
        "from sklearn.metrics import accuracy_score, classification_report, confusion_matrix\n",
        "import tensorflow as tf\n",
        "\n",
        "data = pd.read_csv('/content/healthcare-dataset-stroke-data.csv')\n"
      ],
      "metadata": {
        "id": "7TIfYR586aqJ"
      },
      "execution_count": 8,
      "outputs": []
    },
    {
      "cell_type": "code",
      "source": [
        "# DATA CLEANING\n",
        "\n",
        "from sklearn.preprocessing import StandardScaler\n",
        "\n",
        "# Neural Network(Sequential model) will not work if the data is of type string\n",
        "# Transform the string column into integers\n",
        "\n",
        "# Select non numerical columns\n",
        "numerical_features = data.select_dtypes(exclude=['number']).columns\n",
        "\n",
        "# One-hot encoding because there is no ordinal relationship in gender\n",
        "# Use pandas get_dummies to perform one-hot encoding\n",
        "data_encoded = pd.get_dummies(data, columns=numerical_features, drop_first= False)\n",
        "print(data_encoded.describe())\n",
        "#print(data.describe())\n",
        "\n",
        "# Split data into features (X) and target (y)\n",
        "X = data_encoded.drop('stroke', axis=1)\n",
        "y = data['stroke']\n",
        "\n",
        "# Normalize the features\n",
        "scaler = StandardScaler()\n",
        "X_scaled = scaler.fit_transform(X)"
      ],
      "metadata": {
        "id": "RLkNwtph6tx7",
        "outputId": "b22fa68d-b221-438b-c720-977bc6b6ede8",
        "colab": {
          "base_uri": "https://localhost:8080/"
        }
      },
      "execution_count": 9,
      "outputs": [
        {
          "output_type": "stream",
          "name": "stdout",
          "text": [
            "                 id          age  hypertension  heart_disease  \\\n",
            "count   5110.000000  5110.000000   5110.000000    5110.000000   \n",
            "mean   36517.829354    43.226614      0.097456       0.054012   \n",
            "std    21161.721625    22.612647      0.296607       0.226063   \n",
            "min       67.000000     0.080000      0.000000       0.000000   \n",
            "25%    17741.250000    25.000000      0.000000       0.000000   \n",
            "50%    36932.000000    45.000000      0.000000       0.000000   \n",
            "75%    54682.000000    61.000000      0.000000       0.000000   \n",
            "max    72940.000000    82.000000      1.000000       1.000000   \n",
            "\n",
            "       avg_glucose_level          bmi       stroke  \n",
            "count        5110.000000  4909.000000  5110.000000  \n",
            "mean          106.147677    28.893237     0.048728  \n",
            "std            45.283560     7.854067     0.215320  \n",
            "min            55.120000    10.300000     0.000000  \n",
            "25%            77.245000    23.500000     0.000000  \n",
            "50%            91.885000    28.100000     0.000000  \n",
            "75%           114.090000    33.100000     0.000000  \n",
            "max           271.740000    97.600000     1.000000  \n"
          ]
        }
      ]
    },
    {
      "cell_type": "code",
      "source": [
        "# Split data into training and testing sets\n",
        "X_train, X_test, y_train, y_test = train_test_split(X, y, test_size=0.2, random_state=42)  # Adjust test_size and random_state as needed\n",
        "\n",
        "print(f'Training data shape: {X_train.shape}')\n",
        "print(f'Test data shape: {X_test.shape}')"
      ],
      "metadata": {
        "id": "f-ir_pkc-D-Q",
        "outputId": "899ea210-13e7-4c25-b530-88379d97e8a7",
        "colab": {
          "base_uri": "https://localhost:8080/"
        }
      },
      "execution_count": 10,
      "outputs": [
        {
          "output_type": "stream",
          "name": "stdout",
          "text": [
            "Training data shape: (4088, 22)\n",
            "Test data shape: (1022, 22)\n"
          ]
        }
      ]
    },
    {
      "cell_type": "code",
      "source": [
        "# Build a simple neural network model\n",
        "\n",
        "import keras\n",
        "from keras import layers\n",
        "\n",
        "from tensorflow.keras.models import Sequential\n",
        "from tensorflow.keras.layers import Dense, Input\n",
        "\n",
        "model = Sequential([\n",
        "    Input(shape=(X_train.shape[1],)),  # Use Input layer for input shape\n",
        "    Dense(64, activation='relu'),  # First hidden layer\n",
        "    Dense(32, activation='relu'),  # Second hidden layer\n",
        "    Dense(1, activation='sigmoid')  # Output layer (for binary classification)\n",
        "])\n",
        "\n",
        "\n",
        "# Compile the model\n",
        "model.compile(optimizer='adam', loss='binary_crossentropy', metrics=['accuracy'])\n"
      ],
      "metadata": {
        "id": "Vh886SL_-R8b"
      },
      "execution_count": 11,
      "outputs": []
    },
    {
      "cell_type": "code",
      "source": [
        "# Train the model\n",
        "history = model.fit(X_train, y_train, epochs=50, batch_size=8, validation_data=(X_test, y_test))"
      ],
      "metadata": {
        "id": "yTiUq0Sl_YPO",
        "outputId": "953cfaa1-f11f-4d8e-c3c8-0683d9e01b8a",
        "colab": {
          "base_uri": "https://localhost:8080/"
        }
      },
      "execution_count": 12,
      "outputs": [
        {
          "output_type": "stream",
          "name": "stdout",
          "text": [
            "Epoch 1/50\n",
            "\u001b[1m511/511\u001b[0m \u001b[32m━━━━━━━━━━━━━━━━━━━━\u001b[0m\u001b[37m\u001b[0m \u001b[1m2s\u001b[0m 2ms/step - accuracy: 0.9343 - loss: nan - val_accuracy: 0.9393 - val_loss: nan\n",
            "Epoch 2/50\n",
            "\u001b[1m511/511\u001b[0m \u001b[32m━━━━━━━━━━━━━━━━━━━━\u001b[0m\u001b[37m\u001b[0m \u001b[1m1s\u001b[0m 2ms/step - accuracy: 0.9569 - loss: nan - val_accuracy: 0.9393 - val_loss: nan\n",
            "Epoch 3/50\n",
            "\u001b[1m511/511\u001b[0m \u001b[32m━━━━━━━━━━━━━━━━━━━━\u001b[0m\u001b[37m\u001b[0m \u001b[1m1s\u001b[0m 2ms/step - accuracy: 0.9524 - loss: nan - val_accuracy: 0.9393 - val_loss: nan\n",
            "Epoch 4/50\n",
            "\u001b[1m511/511\u001b[0m \u001b[32m━━━━━━━━━━━━━━━━━━━━\u001b[0m\u001b[37m\u001b[0m \u001b[1m2s\u001b[0m 3ms/step - accuracy: 0.9574 - loss: nan - val_accuracy: 0.9393 - val_loss: nan\n",
            "Epoch 5/50\n",
            "\u001b[1m511/511\u001b[0m \u001b[32m━━━━━━━━━━━━━━━━━━━━\u001b[0m\u001b[37m\u001b[0m \u001b[1m1s\u001b[0m 3ms/step - accuracy: 0.9586 - loss: nan - val_accuracy: 0.9393 - val_loss: nan\n",
            "Epoch 6/50\n",
            "\u001b[1m511/511\u001b[0m \u001b[32m━━━━━━━━━━━━━━━━━━━━\u001b[0m\u001b[37m\u001b[0m \u001b[1m2s\u001b[0m 2ms/step - accuracy: 0.9530 - loss: nan - val_accuracy: 0.9393 - val_loss: nan\n",
            "Epoch 7/50\n",
            "\u001b[1m511/511\u001b[0m \u001b[32m━━━━━━━━━━━━━━━━━━━━\u001b[0m\u001b[37m\u001b[0m \u001b[1m1s\u001b[0m 2ms/step - accuracy: 0.9527 - loss: nan - val_accuracy: 0.9393 - val_loss: nan\n",
            "Epoch 8/50\n",
            "\u001b[1m511/511\u001b[0m \u001b[32m━━━━━━━━━━━━━━━━━━━━\u001b[0m\u001b[37m\u001b[0m \u001b[1m1s\u001b[0m 2ms/step - accuracy: 0.9530 - loss: nan - val_accuracy: 0.9393 - val_loss: nan\n",
            "Epoch 9/50\n",
            "\u001b[1m511/511\u001b[0m \u001b[32m━━━━━━━━━━━━━━━━━━━━\u001b[0m\u001b[37m\u001b[0m \u001b[1m1s\u001b[0m 2ms/step - accuracy: 0.9474 - loss: nan - val_accuracy: 0.9393 - val_loss: nan\n",
            "Epoch 10/50\n",
            "\u001b[1m511/511\u001b[0m \u001b[32m━━━━━━━━━━━━━━━━━━━━\u001b[0m\u001b[37m\u001b[0m \u001b[1m1s\u001b[0m 2ms/step - accuracy: 0.9608 - loss: nan - val_accuracy: 0.9393 - val_loss: nan\n",
            "Epoch 11/50\n",
            "\u001b[1m511/511\u001b[0m \u001b[32m━━━━━━━━━━━━━━━━━━━━\u001b[0m\u001b[37m\u001b[0m \u001b[1m1s\u001b[0m 2ms/step - accuracy: 0.9546 - loss: nan - val_accuracy: 0.9393 - val_loss: nan\n",
            "Epoch 12/50\n",
            "\u001b[1m511/511\u001b[0m \u001b[32m━━━━━━━━━━━━━━━━━━━━\u001b[0m\u001b[37m\u001b[0m \u001b[1m1s\u001b[0m 2ms/step - accuracy: 0.9577 - loss: nan - val_accuracy: 0.9393 - val_loss: nan\n",
            "Epoch 13/50\n",
            "\u001b[1m511/511\u001b[0m \u001b[32m━━━━━━━━━━━━━━━━━━━━\u001b[0m\u001b[37m\u001b[0m \u001b[1m2s\u001b[0m 3ms/step - accuracy: 0.9522 - loss: nan - val_accuracy: 0.9393 - val_loss: nan\n",
            "Epoch 14/50\n",
            "\u001b[1m511/511\u001b[0m \u001b[32m━━━━━━━━━━━━━━━━━━━━\u001b[0m\u001b[37m\u001b[0m \u001b[1m1s\u001b[0m 3ms/step - accuracy: 0.9512 - loss: nan - val_accuracy: 0.9393 - val_loss: nan\n",
            "Epoch 15/50\n",
            "\u001b[1m511/511\u001b[0m \u001b[32m━━━━━━━━━━━━━━━━━━━━\u001b[0m\u001b[37m\u001b[0m \u001b[1m2s\u001b[0m 2ms/step - accuracy: 0.9531 - loss: nan - val_accuracy: 0.9393 - val_loss: nan\n",
            "Epoch 16/50\n",
            "\u001b[1m511/511\u001b[0m \u001b[32m━━━━━━━━━━━━━━━━━━━━\u001b[0m\u001b[37m\u001b[0m \u001b[1m1s\u001b[0m 2ms/step - accuracy: 0.9559 - loss: nan - val_accuracy: 0.9393 - val_loss: nan\n",
            "Epoch 17/50\n",
            "\u001b[1m511/511\u001b[0m \u001b[32m━━━━━━━━━━━━━━━━━━━━\u001b[0m\u001b[37m\u001b[0m \u001b[1m1s\u001b[0m 2ms/step - accuracy: 0.9554 - loss: nan - val_accuracy: 0.9393 - val_loss: nan\n",
            "Epoch 18/50\n",
            "\u001b[1m511/511\u001b[0m \u001b[32m━━━━━━━━━━━━━━━━━━━━\u001b[0m\u001b[37m\u001b[0m \u001b[1m1s\u001b[0m 2ms/step - accuracy: 0.9550 - loss: nan - val_accuracy: 0.9393 - val_loss: nan\n",
            "Epoch 19/50\n",
            "\u001b[1m511/511\u001b[0m \u001b[32m━━━━━━━━━━━━━━━━━━━━\u001b[0m\u001b[37m\u001b[0m \u001b[1m1s\u001b[0m 2ms/step - accuracy: 0.9538 - loss: nan - val_accuracy: 0.9393 - val_loss: nan\n",
            "Epoch 20/50\n",
            "\u001b[1m511/511\u001b[0m \u001b[32m━━━━━━━━━━━━━━━━━━━━\u001b[0m\u001b[37m\u001b[0m \u001b[1m1s\u001b[0m 2ms/step - accuracy: 0.9524 - loss: nan - val_accuracy: 0.9393 - val_loss: nan\n",
            "Epoch 21/50\n",
            "\u001b[1m511/511\u001b[0m \u001b[32m━━━━━━━━━━━━━━━━━━━━\u001b[0m\u001b[37m\u001b[0m \u001b[1m1s\u001b[0m 2ms/step - accuracy: 0.9510 - loss: nan - val_accuracy: 0.9393 - val_loss: nan\n",
            "Epoch 22/50\n",
            "\u001b[1m511/511\u001b[0m \u001b[32m━━━━━━━━━━━━━━━━━━━━\u001b[0m\u001b[37m\u001b[0m \u001b[1m2s\u001b[0m 2ms/step - accuracy: 0.9552 - loss: nan - val_accuracy: 0.9393 - val_loss: nan\n",
            "Epoch 23/50\n",
            "\u001b[1m511/511\u001b[0m \u001b[32m━━━━━━━━━━━━━━━━━━━━\u001b[0m\u001b[37m\u001b[0m \u001b[1m1s\u001b[0m 3ms/step - accuracy: 0.9567 - loss: nan - val_accuracy: 0.9393 - val_loss: nan\n",
            "Epoch 24/50\n",
            "\u001b[1m511/511\u001b[0m \u001b[32m━━━━━━━━━━━━━━━━━━━━\u001b[0m\u001b[37m\u001b[0m \u001b[1m2s\u001b[0m 2ms/step - accuracy: 0.9518 - loss: nan - val_accuracy: 0.9393 - val_loss: nan\n",
            "Epoch 25/50\n",
            "\u001b[1m511/511\u001b[0m \u001b[32m━━━━━━━━━━━━━━━━━━━━\u001b[0m\u001b[37m\u001b[0m \u001b[1m1s\u001b[0m 2ms/step - accuracy: 0.9540 - loss: nan - val_accuracy: 0.9393 - val_loss: nan\n",
            "Epoch 26/50\n",
            "\u001b[1m511/511\u001b[0m \u001b[32m━━━━━━━━━━━━━━━━━━━━\u001b[0m\u001b[37m\u001b[0m \u001b[1m1s\u001b[0m 2ms/step - accuracy: 0.9540 - loss: nan - val_accuracy: 0.9393 - val_loss: nan\n",
            "Epoch 27/50\n",
            "\u001b[1m511/511\u001b[0m \u001b[32m━━━━━━━━━━━━━━━━━━━━\u001b[0m\u001b[37m\u001b[0m \u001b[1m1s\u001b[0m 2ms/step - accuracy: 0.9524 - loss: nan - val_accuracy: 0.9393 - val_loss: nan\n",
            "Epoch 28/50\n",
            "\u001b[1m511/511\u001b[0m \u001b[32m━━━━━━━━━━━━━━━━━━━━\u001b[0m\u001b[37m\u001b[0m \u001b[1m1s\u001b[0m 2ms/step - accuracy: 0.9532 - loss: nan - val_accuracy: 0.9393 - val_loss: nan\n",
            "Epoch 29/50\n",
            "\u001b[1m511/511\u001b[0m \u001b[32m━━━━━━━━━━━━━━━━━━━━\u001b[0m\u001b[37m\u001b[0m \u001b[1m1s\u001b[0m 2ms/step - accuracy: 0.9509 - loss: nan - val_accuracy: 0.9393 - val_loss: nan\n",
            "Epoch 30/50\n",
            "\u001b[1m511/511\u001b[0m \u001b[32m━━━━━━━━━━━━━━━━━━━━\u001b[0m\u001b[37m\u001b[0m \u001b[1m1s\u001b[0m 2ms/step - accuracy: 0.9514 - loss: nan - val_accuracy: 0.9393 - val_loss: nan\n",
            "Epoch 31/50\n",
            "\u001b[1m511/511\u001b[0m \u001b[32m━━━━━━━━━━━━━━━━━━━━\u001b[0m\u001b[37m\u001b[0m \u001b[1m1s\u001b[0m 2ms/step - accuracy: 0.9539 - loss: nan - val_accuracy: 0.9393 - val_loss: nan\n",
            "Epoch 32/50\n",
            "\u001b[1m511/511\u001b[0m \u001b[32m━━━━━━━━━━━━━━━━━━━━\u001b[0m\u001b[37m\u001b[0m \u001b[1m2s\u001b[0m 2ms/step - accuracy: 0.9525 - loss: nan - val_accuracy: 0.9393 - val_loss: nan\n",
            "Epoch 33/50\n",
            "\u001b[1m511/511\u001b[0m \u001b[32m━━━━━━━━━━━━━━━━━━━━\u001b[0m\u001b[37m\u001b[0m \u001b[1m1s\u001b[0m 3ms/step - accuracy: 0.9479 - loss: nan - val_accuracy: 0.9393 - val_loss: nan\n",
            "Epoch 34/50\n",
            "\u001b[1m511/511\u001b[0m \u001b[32m━━━━━━━━━━━━━━━━━━━━\u001b[0m\u001b[37m\u001b[0m \u001b[1m2s\u001b[0m 2ms/step - accuracy: 0.9580 - loss: nan - val_accuracy: 0.9393 - val_loss: nan\n",
            "Epoch 35/50\n",
            "\u001b[1m511/511\u001b[0m \u001b[32m━━━━━━━━━━━━━━━━━━━━\u001b[0m\u001b[37m\u001b[0m \u001b[1m1s\u001b[0m 2ms/step - accuracy: 0.9563 - loss: nan - val_accuracy: 0.9393 - val_loss: nan\n",
            "Epoch 36/50\n",
            "\u001b[1m511/511\u001b[0m \u001b[32m━━━━━━━━━━━━━━━━━━━━\u001b[0m\u001b[37m\u001b[0m \u001b[1m1s\u001b[0m 2ms/step - accuracy: 0.9557 - loss: nan - val_accuracy: 0.9393 - val_loss: nan\n",
            "Epoch 37/50\n",
            "\u001b[1m511/511\u001b[0m \u001b[32m━━━━━━━━━━━━━━━━━━━━\u001b[0m\u001b[37m\u001b[0m \u001b[1m1s\u001b[0m 2ms/step - accuracy: 0.9586 - loss: nan - val_accuracy: 0.9393 - val_loss: nan\n",
            "Epoch 38/50\n",
            "\u001b[1m511/511\u001b[0m \u001b[32m━━━━━━━━━━━━━━━━━━━━\u001b[0m\u001b[37m\u001b[0m \u001b[1m1s\u001b[0m 2ms/step - accuracy: 0.9505 - loss: nan - val_accuracy: 0.9393 - val_loss: nan\n",
            "Epoch 39/50\n",
            "\u001b[1m511/511\u001b[0m \u001b[32m━━━━━━━━━━━━━━━━━━━━\u001b[0m\u001b[37m\u001b[0m \u001b[1m1s\u001b[0m 2ms/step - accuracy: 0.9503 - loss: nan - val_accuracy: 0.9393 - val_loss: nan\n",
            "Epoch 40/50\n",
            "\u001b[1m511/511\u001b[0m \u001b[32m━━━━━━━━━━━━━━━━━━━━\u001b[0m\u001b[37m\u001b[0m \u001b[1m1s\u001b[0m 2ms/step - accuracy: 0.9506 - loss: nan - val_accuracy: 0.9393 - val_loss: nan\n",
            "Epoch 41/50\n",
            "\u001b[1m511/511\u001b[0m \u001b[32m━━━━━━━━━━━━━━━━━━━━\u001b[0m\u001b[37m\u001b[0m \u001b[1m2s\u001b[0m 2ms/step - accuracy: 0.9557 - loss: nan - val_accuracy: 0.9393 - val_loss: nan\n",
            "Epoch 42/50\n",
            "\u001b[1m511/511\u001b[0m \u001b[32m━━━━━━━━━━━━━━━━━━━━\u001b[0m\u001b[37m\u001b[0m \u001b[1m1s\u001b[0m 3ms/step - accuracy: 0.9536 - loss: nan - val_accuracy: 0.9393 - val_loss: nan\n",
            "Epoch 43/50\n",
            "\u001b[1m511/511\u001b[0m \u001b[32m━━━━━━━━━━━━━━━━━━━━\u001b[0m\u001b[37m\u001b[0m \u001b[1m2s\u001b[0m 2ms/step - accuracy: 0.9543 - loss: nan - val_accuracy: 0.9393 - val_loss: nan\n",
            "Epoch 44/50\n",
            "\u001b[1m511/511\u001b[0m \u001b[32m━━━━━━━━━━━━━━━━━━━━\u001b[0m\u001b[37m\u001b[0m \u001b[1m1s\u001b[0m 2ms/step - accuracy: 0.9539 - loss: nan - val_accuracy: 0.9393 - val_loss: nan\n",
            "Epoch 45/50\n",
            "\u001b[1m511/511\u001b[0m \u001b[32m━━━━━━━━━━━━━━━━━━━━\u001b[0m\u001b[37m\u001b[0m \u001b[1m1s\u001b[0m 2ms/step - accuracy: 0.9550 - loss: nan - val_accuracy: 0.9393 - val_loss: nan\n",
            "Epoch 46/50\n",
            "\u001b[1m511/511\u001b[0m \u001b[32m━━━━━━━━━━━━━━━━━━━━\u001b[0m\u001b[37m\u001b[0m \u001b[1m1s\u001b[0m 2ms/step - accuracy: 0.9580 - loss: nan - val_accuracy: 0.9393 - val_loss: nan\n",
            "Epoch 47/50\n",
            "\u001b[1m511/511\u001b[0m \u001b[32m━━━━━━━━━━━━━━━━━━━━\u001b[0m\u001b[37m\u001b[0m \u001b[1m1s\u001b[0m 2ms/step - accuracy: 0.9558 - loss: nan - val_accuracy: 0.9393 - val_loss: nan\n",
            "Epoch 48/50\n",
            "\u001b[1m511/511\u001b[0m \u001b[32m━━━━━━━━━━━━━━━━━━━━\u001b[0m\u001b[37m\u001b[0m \u001b[1m1s\u001b[0m 2ms/step - accuracy: 0.9545 - loss: nan - val_accuracy: 0.9393 - val_loss: nan\n",
            "Epoch 49/50\n",
            "\u001b[1m511/511\u001b[0m \u001b[32m━━━━━━━━━━━━━━━━━━━━\u001b[0m\u001b[37m\u001b[0m \u001b[1m1s\u001b[0m 2ms/step - accuracy: 0.9572 - loss: nan - val_accuracy: 0.9393 - val_loss: nan\n",
            "Epoch 50/50\n",
            "\u001b[1m511/511\u001b[0m \u001b[32m━━━━━━━━━━━━━━━━━━━━\u001b[0m\u001b[37m\u001b[0m \u001b[1m2s\u001b[0m 2ms/step - accuracy: 0.9531 - loss: nan - val_accuracy: 0.9393 - val_loss: nan\n"
          ]
        }
      ]
    },
    {
      "cell_type": "code",
      "source": [
        "# Evaluate the model\n",
        "loss, accuracy = model.evaluate(X_test, y_test)\n",
        "print(f\"Test Loss: {loss}\")\n",
        "print(f\"Test Accuracy: {accuracy}\")\n"
      ],
      "metadata": {
        "colab": {
          "base_uri": "https://localhost:8080/"
        },
        "id": "kbXTXVns_bx3",
        "outputId": "969d1e5f-7257-494d-dbf5-6d61a2b1a08b"
      },
      "execution_count": 13,
      "outputs": [
        {
          "output_type": "stream",
          "name": "stdout",
          "text": [
            "\u001b[1m32/32\u001b[0m \u001b[32m━━━━━━━━━━━━━━━━━━━━\u001b[0m\u001b[37m\u001b[0m \u001b[1m0s\u001b[0m 2ms/step - accuracy: 0.9405 - loss: nan\n",
            "Test Loss: nan\n",
            "Test Accuracy: 0.9393346309661865\n"
          ]
        }
      ]
    },
    {
      "cell_type": "code",
      "source": [
        "# Making predictions\n",
        "predictions = model.predict(X_test)\n",
        "print(predictions)\n"
      ],
      "metadata": {
        "id": "FeLTlLtl_evj",
        "outputId": "54932346-ebfb-46c8-8852-d31e9bc6300b",
        "colab": {
          "base_uri": "https://localhost:8080/"
        }
      },
      "execution_count": 14,
      "outputs": [
        {
          "output_type": "stream",
          "name": "stdout",
          "text": [
            "\u001b[1m32/32\u001b[0m \u001b[32m━━━━━━━━━━━━━━━━━━━━\u001b[0m\u001b[37m\u001b[0m \u001b[1m0s\u001b[0m 3ms/step\n",
            "[[nan]\n",
            " [nan]\n",
            " [nan]\n",
            " ...\n",
            " [nan]\n",
            " [nan]\n",
            " [nan]]\n"
          ]
        }
      ]
    },
    {
      "cell_type": "code",
      "source": [
        "import pandas as pd\n",
        "from sklearn.model_selection import train_test_split\n",
        "from sklearn.preprocessing import StandardScaler\n",
        "\n",
        "# Assuming 'data' is your original DataFrame\n",
        "# Split the data into train and test sets\n",
        "train_data, test_data = train_test_split(data, test_size=0.2, random_state=42)  # Adjust test_size and random_state as needed\n",
        "\n",
        "# Split training data into features and target\n",
        "X_train = train_data.drop('stroke', axis=1)  # Features\n",
        "y_train = train_data['stroke']  # Target\n",
        "\n",
        "# Split test data into features and target\n",
        "X_test = test_data.drop('stroke', axis=1)\n",
        "y_test = test_data['stroke']\n",
        "\n",
        "# Apply one-hot encoding to categorical columns in training and test datasets\n",
        "# Use the same columns for both training and testing data\n",
        "all_data = pd.concat([X_train, X_test])\n",
        "all_data_encoded = pd.get_dummies(all_data, drop_first=False)\n",
        "\n",
        "# Split back into training and testing data\n",
        "X_train = all_data_encoded[:len(X_train)]\n",
        "X_test = all_data_encoded[len(X_train):]\n",
        "\n",
        "# Optional: Normalize the features (if required)\n",
        "scaler = StandardScaler()\n",
        "X_train_scaled = scaler.fit_transform(X_train)  # Fit and transform on training data\n",
        "X_test_scaled = scaler.transform(X_test)  # Only transform on test data"
      ],
      "metadata": {
        "id": "73vRO1DlKC33"
      },
      "execution_count": 18,
      "outputs": []
    },
    {
      "cell_type": "code",
      "source": [
        "# Build a simple neural network\n",
        "model = Sequential([\n",
        "    Dense(64, activation='relu', input_dim=X_train_scaled.shape[1]),  # First hidden layer\n",
        "    Dense(32, activation='relu'),  # Second hidden layer\n",
        "    Dense(1, activation='sigmoid')  # Output layer (for binary classification)\n",
        "])\n",
        "\n",
        "# Compile the model\n",
        "model.compile(optimizer='adam', loss='binary_crossentropy', metrics=['accuracy'])\n"
      ],
      "metadata": {
        "id": "l5NF1QE5KEEb",
        "outputId": "3f8cda5b-c15d-46a0-8af2-254455044438",
        "colab": {
          "base_uri": "https://localhost:8080/"
        }
      },
      "execution_count": 19,
      "outputs": [
        {
          "output_type": "stream",
          "name": "stderr",
          "text": [
            "/usr/local/lib/python3.10/dist-packages/keras/src/layers/core/dense.py:87: UserWarning: Do not pass an `input_shape`/`input_dim` argument to a layer. When using Sequential models, prefer using an `Input(shape)` object as the first layer in the model instead.\n",
            "  super().__init__(activity_regularizer=activity_regularizer, **kwargs)\n"
          ]
        }
      ]
    },
    {
      "cell_type": "code",
      "source": [
        "# Train the model\n",
        "history = model.fit(X_train_scaled, y_train, epochs=50, batch_size=8, validation_data=(X_test_scaled, y_test))\n"
      ],
      "metadata": {
        "id": "BRbwmuRWKGVt",
        "outputId": "ff96b048-fca9-4e90-b031-e6c57490d4ba",
        "colab": {
          "base_uri": "https://localhost:8080/"
        }
      },
      "execution_count": 20,
      "outputs": [
        {
          "output_type": "stream",
          "name": "stdout",
          "text": [
            "Epoch 1/50\n",
            "\u001b[1m511/511\u001b[0m \u001b[32m━━━━━━━━━━━━━━━━━━━━\u001b[0m\u001b[37m\u001b[0m \u001b[1m2s\u001b[0m 2ms/step - accuracy: 0.8898 - loss: nan - val_accuracy: 0.9393 - val_loss: nan\n",
            "Epoch 2/50\n",
            "\u001b[1m511/511\u001b[0m \u001b[32m━━━━━━━━━━━━━━━━━━━━\u001b[0m\u001b[37m\u001b[0m \u001b[1m1s\u001b[0m 2ms/step - accuracy: 0.9582 - loss: nan - val_accuracy: 0.9393 - val_loss: nan\n",
            "Epoch 3/50\n",
            "\u001b[1m511/511\u001b[0m \u001b[32m━━━━━━━━━━━━━━━━━━━━\u001b[0m\u001b[37m\u001b[0m \u001b[1m1s\u001b[0m 2ms/step - accuracy: 0.9606 - loss: nan - val_accuracy: 0.9393 - val_loss: nan\n",
            "Epoch 4/50\n",
            "\u001b[1m511/511\u001b[0m \u001b[32m━━━━━━━━━━━━━━━━━━━━\u001b[0m\u001b[37m\u001b[0m \u001b[1m1s\u001b[0m 2ms/step - accuracy: 0.9502 - loss: nan - val_accuracy: 0.9393 - val_loss: nan\n",
            "Epoch 5/50\n",
            "\u001b[1m511/511\u001b[0m \u001b[32m━━━━━━━━━━━━━━━━━━━━\u001b[0m\u001b[37m\u001b[0m \u001b[1m2s\u001b[0m 3ms/step - accuracy: 0.9552 - loss: nan - val_accuracy: 0.9393 - val_loss: nan\n",
            "Epoch 6/50\n",
            "\u001b[1m511/511\u001b[0m \u001b[32m━━━━━━━━━━━━━━━━━━━━\u001b[0m\u001b[37m\u001b[0m \u001b[1m2s\u001b[0m 2ms/step - accuracy: 0.9546 - loss: nan - val_accuracy: 0.9393 - val_loss: nan\n",
            "Epoch 7/50\n",
            "\u001b[1m511/511\u001b[0m \u001b[32m━━━━━━━━━━━━━━━━━━━━\u001b[0m\u001b[37m\u001b[0m \u001b[1m1s\u001b[0m 2ms/step - accuracy: 0.9570 - loss: nan - val_accuracy: 0.9393 - val_loss: nan\n",
            "Epoch 8/50\n",
            "\u001b[1m511/511\u001b[0m \u001b[32m━━━━━━━━━━━━━━━━━━━━\u001b[0m\u001b[37m\u001b[0m \u001b[1m1s\u001b[0m 2ms/step - accuracy: 0.9509 - loss: nan - val_accuracy: 0.9393 - val_loss: nan\n",
            "Epoch 9/50\n",
            "\u001b[1m511/511\u001b[0m \u001b[32m━━━━━━━━━━━━━━━━━━━━\u001b[0m\u001b[37m\u001b[0m \u001b[1m1s\u001b[0m 2ms/step - accuracy: 0.9527 - loss: nan - val_accuracy: 0.9393 - val_loss: nan\n",
            "Epoch 10/50\n",
            "\u001b[1m511/511\u001b[0m \u001b[32m━━━━━━━━━━━━━━━━━━━━\u001b[0m\u001b[37m\u001b[0m \u001b[1m1s\u001b[0m 2ms/step - accuracy: 0.9519 - loss: nan - val_accuracy: 0.9393 - val_loss: nan\n",
            "Epoch 11/50\n",
            "\u001b[1m511/511\u001b[0m \u001b[32m━━━━━━━━━━━━━━━━━━━━\u001b[0m\u001b[37m\u001b[0m \u001b[1m1s\u001b[0m 2ms/step - accuracy: 0.9578 - loss: nan - val_accuracy: 0.9393 - val_loss: nan\n",
            "Epoch 12/50\n",
            "\u001b[1m511/511\u001b[0m \u001b[32m━━━━━━━━━━━━━━━━━━━━\u001b[0m\u001b[37m\u001b[0m \u001b[1m1s\u001b[0m 2ms/step - accuracy: 0.9558 - loss: nan - val_accuracy: 0.9393 - val_loss: nan\n",
            "Epoch 13/50\n",
            "\u001b[1m511/511\u001b[0m \u001b[32m━━━━━━━━━━━━━━━━━━━━\u001b[0m\u001b[37m\u001b[0m \u001b[1m1s\u001b[0m 2ms/step - accuracy: 0.9501 - loss: nan - val_accuracy: 0.9393 - val_loss: nan\n",
            "Epoch 14/50\n",
            "\u001b[1m511/511\u001b[0m \u001b[32m━━━━━━━━━━━━━━━━━━━━\u001b[0m\u001b[37m\u001b[0m \u001b[1m2s\u001b[0m 3ms/step - accuracy: 0.9522 - loss: nan - val_accuracy: 0.9393 - val_loss: nan\n",
            "Epoch 15/50\n",
            "\u001b[1m511/511\u001b[0m \u001b[32m━━━━━━━━━━━━━━━━━━━━\u001b[0m\u001b[37m\u001b[0m \u001b[1m2s\u001b[0m 2ms/step - accuracy: 0.9495 - loss: nan - val_accuracy: 0.9393 - val_loss: nan\n",
            "Epoch 16/50\n",
            "\u001b[1m511/511\u001b[0m \u001b[32m━━━━━━━━━━━━━━━━━━━━\u001b[0m\u001b[37m\u001b[0m \u001b[1m1s\u001b[0m 2ms/step - accuracy: 0.9539 - loss: nan - val_accuracy: 0.9393 - val_loss: nan\n",
            "Epoch 17/50\n",
            "\u001b[1m511/511\u001b[0m \u001b[32m━━━━━━━━━━━━━━━━━━━━\u001b[0m\u001b[37m\u001b[0m \u001b[1m1s\u001b[0m 2ms/step - accuracy: 0.9524 - loss: nan - val_accuracy: 0.9393 - val_loss: nan\n",
            "Epoch 18/50\n",
            "\u001b[1m511/511\u001b[0m \u001b[32m━━━━━━━━━━━━━━━━━━━━\u001b[0m\u001b[37m\u001b[0m \u001b[1m1s\u001b[0m 2ms/step - accuracy: 0.9474 - loss: nan - val_accuracy: 0.9393 - val_loss: nan\n",
            "Epoch 19/50\n",
            "\u001b[1m511/511\u001b[0m \u001b[32m━━━━━━━━━━━━━━━━━━━━\u001b[0m\u001b[37m\u001b[0m \u001b[1m1s\u001b[0m 2ms/step - accuracy: 0.9596 - loss: nan - val_accuracy: 0.9393 - val_loss: nan\n",
            "Epoch 20/50\n",
            "\u001b[1m511/511\u001b[0m \u001b[32m━━━━━━━━━━━━━━━━━━━━\u001b[0m\u001b[37m\u001b[0m \u001b[1m1s\u001b[0m 2ms/step - accuracy: 0.9503 - loss: nan - val_accuracy: 0.9393 - val_loss: nan\n",
            "Epoch 21/50\n",
            "\u001b[1m511/511\u001b[0m \u001b[32m━━━━━━━━━━━━━━━━━━━━\u001b[0m\u001b[37m\u001b[0m \u001b[1m1s\u001b[0m 2ms/step - accuracy: 0.9551 - loss: nan - val_accuracy: 0.9393 - val_loss: nan\n",
            "Epoch 22/50\n",
            "\u001b[1m511/511\u001b[0m \u001b[32m━━━━━━━━━━━━━━━━━━━━\u001b[0m\u001b[37m\u001b[0m \u001b[1m1s\u001b[0m 2ms/step - accuracy: 0.9550 - loss: nan - val_accuracy: 0.9393 - val_loss: nan\n",
            "Epoch 23/50\n",
            "\u001b[1m511/511\u001b[0m \u001b[32m━━━━━━━━━━━━━━━━━━━━\u001b[0m\u001b[37m\u001b[0m \u001b[1m2s\u001b[0m 3ms/step - accuracy: 0.9542 - loss: nan - val_accuracy: 0.9393 - val_loss: nan\n",
            "Epoch 24/50\n",
            "\u001b[1m511/511\u001b[0m \u001b[32m━━━━━━━━━━━━━━━━━━━━\u001b[0m\u001b[37m\u001b[0m \u001b[1m2s\u001b[0m 3ms/step - accuracy: 0.9498 - loss: nan - val_accuracy: 0.9393 - val_loss: nan\n",
            "Epoch 25/50\n",
            "\u001b[1m511/511\u001b[0m \u001b[32m━━━━━━━━━━━━━━━━━━━━\u001b[0m\u001b[37m\u001b[0m \u001b[1m3s\u001b[0m 3ms/step - accuracy: 0.9576 - loss: nan - val_accuracy: 0.9393 - val_loss: nan\n",
            "Epoch 26/50\n",
            "\u001b[1m511/511\u001b[0m \u001b[32m━━━━━━━━━━━━━━━━━━━━\u001b[0m\u001b[37m\u001b[0m \u001b[1m3s\u001b[0m 4ms/step - accuracy: 0.9549 - loss: nan - val_accuracy: 0.9393 - val_loss: nan\n",
            "Epoch 27/50\n",
            "\u001b[1m511/511\u001b[0m \u001b[32m━━━━━━━━━━━━━━━━━━━━\u001b[0m\u001b[37m\u001b[0m \u001b[1m3s\u001b[0m 4ms/step - accuracy: 0.9571 - loss: nan - val_accuracy: 0.9393 - val_loss: nan\n",
            "Epoch 28/50\n",
            "\u001b[1m511/511\u001b[0m \u001b[32m━━━━━━━━━━━━━━━━━━━━\u001b[0m\u001b[37m\u001b[0m \u001b[1m1s\u001b[0m 2ms/step - accuracy: 0.9555 - loss: nan - val_accuracy: 0.9393 - val_loss: nan\n",
            "Epoch 29/50\n",
            "\u001b[1m511/511\u001b[0m \u001b[32m━━━━━━━━━━━━━━━━━━━━\u001b[0m\u001b[37m\u001b[0m \u001b[1m2s\u001b[0m 2ms/step - accuracy: 0.9543 - loss: nan - val_accuracy: 0.9393 - val_loss: nan\n",
            "Epoch 30/50\n",
            "\u001b[1m511/511\u001b[0m \u001b[32m━━━━━━━━━━━━━━━━━━━━\u001b[0m\u001b[37m\u001b[0m \u001b[1m2s\u001b[0m 2ms/step - accuracy: 0.9490 - loss: nan - val_accuracy: 0.9393 - val_loss: nan\n",
            "Epoch 31/50\n",
            "\u001b[1m511/511\u001b[0m \u001b[32m━━━━━━━━━━━━━━━━━━━━\u001b[0m\u001b[37m\u001b[0m \u001b[1m1s\u001b[0m 2ms/step - accuracy: 0.9583 - loss: nan - val_accuracy: 0.9393 - val_loss: nan\n",
            "Epoch 32/50\n",
            "\u001b[1m511/511\u001b[0m \u001b[32m━━━━━━━━━━━━━━━━━━━━\u001b[0m\u001b[37m\u001b[0m \u001b[1m1s\u001b[0m 2ms/step - accuracy: 0.9518 - loss: nan - val_accuracy: 0.9393 - val_loss: nan\n",
            "Epoch 33/50\n",
            "\u001b[1m511/511\u001b[0m \u001b[32m━━━━━━━━━━━━━━━━━━━━\u001b[0m\u001b[37m\u001b[0m \u001b[1m1s\u001b[0m 2ms/step - accuracy: 0.9594 - loss: nan - val_accuracy: 0.9393 - val_loss: nan\n",
            "Epoch 34/50\n",
            "\u001b[1m511/511\u001b[0m \u001b[32m━━━━━━━━━━━━━━━━━━━━\u001b[0m\u001b[37m\u001b[0m \u001b[1m1s\u001b[0m 2ms/step - accuracy: 0.9579 - loss: nan - val_accuracy: 0.9393 - val_loss: nan\n",
            "Epoch 35/50\n",
            "\u001b[1m511/511\u001b[0m \u001b[32m━━━━━━━━━━━━━━━━━━━━\u001b[0m\u001b[37m\u001b[0m \u001b[1m1s\u001b[0m 2ms/step - accuracy: 0.9550 - loss: nan - val_accuracy: 0.9393 - val_loss: nan\n",
            "Epoch 36/50\n",
            "\u001b[1m511/511\u001b[0m \u001b[32m━━━━━━━━━━━━━━━━━━━━\u001b[0m\u001b[37m\u001b[0m \u001b[1m1s\u001b[0m 2ms/step - accuracy: 0.9583 - loss: nan - val_accuracy: 0.9393 - val_loss: nan\n",
            "Epoch 37/50\n",
            "\u001b[1m511/511\u001b[0m \u001b[32m━━━━━━━━━━━━━━━━━━━━\u001b[0m\u001b[37m\u001b[0m \u001b[1m1s\u001b[0m 2ms/step - accuracy: 0.9547 - loss: nan - val_accuracy: 0.9393 - val_loss: nan\n",
            "Epoch 38/50\n",
            "\u001b[1m511/511\u001b[0m \u001b[32m━━━━━━━━━━━━━━━━━━━━\u001b[0m\u001b[37m\u001b[0m \u001b[1m1s\u001b[0m 2ms/step - accuracy: 0.9551 - loss: nan - val_accuracy: 0.9393 - val_loss: nan\n",
            "Epoch 39/50\n",
            "\u001b[1m511/511\u001b[0m \u001b[32m━━━━━━━━━━━━━━━━━━━━\u001b[0m\u001b[37m\u001b[0m \u001b[1m2s\u001b[0m 2ms/step - accuracy: 0.9507 - loss: nan - val_accuracy: 0.9393 - val_loss: nan\n",
            "Epoch 40/50\n",
            "\u001b[1m511/511\u001b[0m \u001b[32m━━━━━━━━━━━━━━━━━━━━\u001b[0m\u001b[37m\u001b[0m \u001b[1m2s\u001b[0m 2ms/step - accuracy: 0.9555 - loss: nan - val_accuracy: 0.9393 - val_loss: nan\n",
            "Epoch 41/50\n",
            "\u001b[1m511/511\u001b[0m \u001b[32m━━━━━━━━━━━━━━━━━━━━\u001b[0m\u001b[37m\u001b[0m \u001b[1m1s\u001b[0m 2ms/step - accuracy: 0.9582 - loss: nan - val_accuracy: 0.9393 - val_loss: nan\n",
            "Epoch 42/50\n",
            "\u001b[1m511/511\u001b[0m \u001b[32m━━━━━━━━━━━━━━━━━━━━\u001b[0m\u001b[37m\u001b[0m \u001b[1m1s\u001b[0m 2ms/step - accuracy: 0.9583 - loss: nan - val_accuracy: 0.9393 - val_loss: nan\n",
            "Epoch 43/50\n",
            "\u001b[1m511/511\u001b[0m \u001b[32m━━━━━━━━━━━━━━━━━━━━\u001b[0m\u001b[37m\u001b[0m \u001b[1m1s\u001b[0m 2ms/step - accuracy: 0.9562 - loss: nan - val_accuracy: 0.9393 - val_loss: nan\n",
            "Epoch 44/50\n",
            "\u001b[1m511/511\u001b[0m \u001b[32m━━━━━━━━━━━━━━━━━━━━\u001b[0m\u001b[37m\u001b[0m \u001b[1m1s\u001b[0m 2ms/step - accuracy: 0.9571 - loss: nan - val_accuracy: 0.9393 - val_loss: nan\n",
            "Epoch 45/50\n",
            "\u001b[1m511/511\u001b[0m \u001b[32m━━━━━━━━━━━━━━━━━━━━\u001b[0m\u001b[37m\u001b[0m \u001b[1m1s\u001b[0m 2ms/step - accuracy: 0.9449 - loss: nan - val_accuracy: 0.9393 - val_loss: nan\n",
            "Epoch 46/50\n",
            "\u001b[1m511/511\u001b[0m \u001b[32m━━━━━━━━━━━━━━━━━━━━\u001b[0m\u001b[37m\u001b[0m \u001b[1m1s\u001b[0m 2ms/step - accuracy: 0.9571 - loss: nan - val_accuracy: 0.9393 - val_loss: nan\n",
            "Epoch 47/50\n",
            "\u001b[1m511/511\u001b[0m \u001b[32m━━━━━━━━━━━━━━━━━━━━\u001b[0m\u001b[37m\u001b[0m \u001b[1m1s\u001b[0m 2ms/step - accuracy: 0.9616 - loss: nan - val_accuracy: 0.9393 - val_loss: nan\n",
            "Epoch 48/50\n",
            "\u001b[1m511/511\u001b[0m \u001b[32m━━━━━━━━━━━━━━━━━━━━\u001b[0m\u001b[37m\u001b[0m \u001b[1m2s\u001b[0m 3ms/step - accuracy: 0.9509 - loss: nan - val_accuracy: 0.9393 - val_loss: nan\n",
            "Epoch 49/50\n",
            "\u001b[1m511/511\u001b[0m \u001b[32m━━━━━━━━━━━━━━━━━━━━\u001b[0m\u001b[37m\u001b[0m \u001b[1m2s\u001b[0m 2ms/step - accuracy: 0.9526 - loss: nan - val_accuracy: 0.9393 - val_loss: nan\n",
            "Epoch 50/50\n",
            "\u001b[1m511/511\u001b[0m \u001b[32m━━━━━━━━━━━━━━━━━━━━\u001b[0m\u001b[37m\u001b[0m \u001b[1m1s\u001b[0m 2ms/step - accuracy: 0.9499 - loss: nan - val_accuracy: 0.9393 - val_loss: nan\n"
          ]
        }
      ]
    },
    {
      "cell_type": "code",
      "source": [
        "# Evaluate the model on the test set\n",
        "test_loss, test_accuracy = model.evaluate(X_test_scaled, y_test)\n",
        "print(f'Test Loss: {test_loss}, Test Accuracy: {test_accuracy}')\n"
      ],
      "metadata": {
        "id": "wdr5tPGdKIp8",
        "outputId": "1fbd5d02-7e65-497d-997d-ad55f5fd386b",
        "colab": {
          "base_uri": "https://localhost:8080/"
        }
      },
      "execution_count": 21,
      "outputs": [
        {
          "output_type": "stream",
          "name": "stdout",
          "text": [
            "\u001b[1m32/32\u001b[0m \u001b[32m━━━━━━━━━━━━━━━━━━━━\u001b[0m\u001b[37m\u001b[0m \u001b[1m0s\u001b[0m 1ms/step - accuracy: 0.9405 - loss: nan \n",
            "Test Loss: nan, Test Accuracy: 0.9393346309661865\n"
          ]
        }
      ]
    },
    {
      "cell_type": "code",
      "source": [
        "# Make predictions using the trained model\n",
        "predictions = model.predict(X_test_scaled)\n",
        "\n",
        "# You can also convert probabilities to class labels (0 or 1 for binary classification)\n",
        "predicted_classes = (predictions > 0.5).astype(\"int32\")\n"
      ],
      "metadata": {
        "id": "ldOvHp_PKMuH",
        "outputId": "893ec7db-5f16-4468-878f-ba18d06f71ea",
        "colab": {
          "base_uri": "https://localhost:8080/"
        }
      },
      "execution_count": 22,
      "outputs": [
        {
          "output_type": "stream",
          "name": "stdout",
          "text": [
            "\u001b[1m32/32\u001b[0m \u001b[32m━━━━━━━━━━━━━━━━━━━━\u001b[0m\u001b[37m\u001b[0m \u001b[1m0s\u001b[0m 2ms/step\n"
          ]
        }
      ]
    }
  ]
}